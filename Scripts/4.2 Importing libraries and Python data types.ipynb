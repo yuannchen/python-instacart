{
 "cells": [
  {
   "cell_type": "markdown",
   "id": "edb6d564-a52f-4562-9b16-0d339307d33b",
   "metadata": {},
   "source": [
    "# 01.Importing libraries"
   ]
  },
  {
   "cell_type": "code",
   "execution_count": 1,
   "id": "70afc972-edc7-4210-8863-f53f0f76f30b",
   "metadata": {},
   "outputs": [],
   "source": [
    "# Import libraries\n",
    "import pandas as pd\n",
    "import numpy as np\n",
    "import os"
   ]
  },
  {
   "cell_type": "markdown",
   "id": "68426ca3-5a20-4270-bf80-46b5b57153e8",
   "metadata": {},
   "source": [
    "# 02. Python data types"
   ]
  },
  {
   "cell_type": "code",
   "execution_count": 5,
   "id": "194b048a-0be2-40a9-969b-6a6b4ae5e4cd",
   "metadata": {},
   "outputs": [
    {
     "data": {
      "text/plain": [
       "100"
      ]
     },
     "execution_count": 5,
     "metadata": {},
     "output_type": "execute_result"
    }
   ],
   "source": [
    "50 + 50"
   ]
  },
  {
   "cell_type": "code",
   "execution_count": 7,
   "id": "377e88eb-a154-4597-a3d3-82611fb363dc",
   "metadata": {},
   "outputs": [
    {
     "data": {
      "text/plain": [
       "100"
      ]
     },
     "execution_count": 7,
     "metadata": {},
     "output_type": "execute_result"
    }
   ],
   "source": [
    "200 - 100"
   ]
  },
  {
   "cell_type": "code",
   "execution_count": 9,
   "id": "a9f438be-f13e-482c-b30e-c4644293bb0b",
   "metadata": {},
   "outputs": [
    {
     "data": {
      "text/plain": [
       "100"
      ]
     },
     "execution_count": 9,
     "metadata": {},
     "output_type": "execute_result"
    }
   ],
   "source": [
    "1 + 99"
   ]
  },
  {
   "cell_type": "code",
   "execution_count": 11,
   "id": "f4759bfe-b6a5-4c74-bd02-bed410ba00ab",
   "metadata": {},
   "outputs": [],
   "source": [
    "x = 1.234"
   ]
  },
  {
   "cell_type": "code",
   "execution_count": 13,
   "id": "c79f50b7-058e-4a62-8664-b1dde955478a",
   "metadata": {},
   "outputs": [],
   "source": [
    "y = 5.678"
   ]
  },
  {
   "cell_type": "code",
   "execution_count": 17,
   "id": "6f9ddab3-f5ac-4b8b-91c9-fee0800ae873",
   "metadata": {},
   "outputs": [
    {
     "data": {
      "text/plain": [
       "0.2173300457907714"
      ]
     },
     "execution_count": 17,
     "metadata": {},
     "output_type": "execute_result"
    }
   ],
   "source": [
    "x / y"
   ]
  },
  {
   "cell_type": "code",
   "execution_count": 19,
   "id": "e966152f-ed14-4f4e-98ec-8b1db30eb0c8",
   "metadata": {},
   "outputs": [
    {
     "data": {
      "text/plain": [
       "4.60129659643436"
      ]
     },
     "execution_count": 19,
     "metadata": {},
     "output_type": "execute_result"
    }
   ],
   "source": [
    "y / x"
   ]
  },
  {
   "cell_type": "code",
   "execution_count": 23,
   "id": "620bc94c-00d8-4b31-9aeb-cf2d806b0709",
   "metadata": {},
   "outputs": [
    {
     "data": {
      "text/plain": [
       "'Summer'"
      ]
     },
     "execution_count": 23,
     "metadata": {},
     "output_type": "execute_result"
    }
   ],
   "source": [
    "'Sum' + 'mer'"
   ]
  },
  {
   "cell_type": "code",
   "execution_count": 25,
   "id": "94e91650-ba64-46ab-8265-75ca97a4a97e",
   "metadata": {},
   "outputs": [
    {
     "data": {
      "text/plain": [
       "'This is a sentence.'"
      ]
     },
     "execution_count": 25,
     "metadata": {},
     "output_type": "execute_result"
    }
   ],
   "source": [
    "'This is ' + 'a sentence.'"
   ]
  },
  {
   "cell_type": "code",
   "execution_count": 27,
   "id": "a85b816d-7498-47e2-8a06-e27db7e09230",
   "metadata": {},
   "outputs": [
    {
     "data": {
      "text/plain": [
       "'This is the second sentence.'"
      ]
     },
     "execution_count": 27,
     "metadata": {},
     "output_type": "execute_result"
    }
   ],
   "source": [
    "'This is ' + 'the second ' + 'sentence.'"
   ]
  },
  {
   "cell_type": "code",
   "execution_count": 29,
   "id": "d85ee7ae-9094-4a95-9cb1-acd55137e64d",
   "metadata": {},
   "outputs": [
    {
     "data": {
      "text/plain": [
       "'Summer!Summer!Summer!Summer!Summer!Summer!Summer!Summer!Summer!Summer!Summer!Summer!Summer!Summer!Summer!Summer!Summer!Summer!Summer!Summer!Summer!Summer!Summer!Summer!Summer!Summer!Summer!Summer!Summer!Summer!Summer!Summer!Summer!Summer!Summer!Summer!Summer!Summer!Summer!Summer!Summer!Summer!Summer!Summer!Summer!Summer!Summer!Summer!Summer!Summer!Summer!Summer!Summer!Summer!Summer!Summer!Summer!Summer!Summer!Summer!Summer!Summer!Summer!Summer!Summer!Summer!Summer!Summer!Summer!Summer!Summer!Summer!Summer!Summer!Summer!Summer!Summer!Summer!Summer!Summer!Summer!Summer!Summer!Summer!Summer!Summer!Summer!Summer!Summer!Summer!Summer!Summer!Summer!Summer!Summer!Summer!Summer!Summer!Summer!Summer!'"
      ]
     },
     "execution_count": 29,
     "metadata": {},
     "output_type": "execute_result"
    }
   ],
   "source": [
    "'Summer!' * 100"
   ]
  },
  {
   "cell_type": "code",
   "execution_count": null,
   "id": "c2925eae-e543-420d-a6ce-16c4b8640188",
   "metadata": {},
   "outputs": [],
   "source": []
  }
 ],
 "metadata": {
  "kernelspec": {
   "display_name": "Python 3 (ipykernel)",
   "language": "python",
   "name": "python3"
  },
  "language_info": {
   "codemirror_mode": {
    "name": "ipython",
    "version": 3
   },
   "file_extension": ".py",
   "mimetype": "text/x-python",
   "name": "python",
   "nbconvert_exporter": "python",
   "pygments_lexer": "ipython3",
   "version": "3.11.7"
  }
 },
 "nbformat": 4,
 "nbformat_minor": 5
}
