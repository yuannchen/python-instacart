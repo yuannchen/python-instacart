{
 "cells": [
  {
   "cell_type": "markdown",
   "id": "4ef12ea4-dbd2-42a2-aafb-535d469f5c74",
   "metadata": {},
   "source": [
    "# 01. Importing libraries"
   ]
  },
  {
   "cell_type": "code",
   "execution_count": null,
   "id": "9174ae47-5b24-4d20-a8f9-a569c4a7d803",
   "metadata": {},
   "outputs": [],
   "source": [
    "# Import libraries\n",
    "import pandas as pd\n",
    "import numpy as np\n",
    "import os"
   ]
  },
  {
   "cell_type": "code",
   "execution_count": null,
   "id": "25f13b47-6107-45b7-8225-0b2fbed549e5",
   "metadata": {},
   "outputs": [],
   "source": [
    "path = r'C:\\Users\\admin\\06-2024 Instacart Basket Analysis'"
   ]
  },
  {
   "cell_type": "code",
   "execution_count": null,
   "id": "f201f4d5-60c1-4d28-93fa-604cb8edb8d7",
   "metadata": {},
   "outputs": [],
   "source": [
    "path"
   ]
  },
  {
   "cell_type": "code",
   "execution_count": null,
   "id": "a3260426-96f8-4f4d-b682-cbe2a82466f3",
   "metadata": {},
   "outputs": [],
   "source": [
    "vars_list = ['order_id', 'user_id', 'order_number', 'order_dow', 'order_hour_of_day', 'days_since_prior_order']"
   ]
  },
  {
   "cell_type": "code",
   "execution_count": null,
   "id": "f37f64d7-8500-4585-af27-8b001b2c53d5",
   "metadata": {},
   "outputs": [],
   "source": [
    "vars_list"
   ]
  },
  {
   "cell_type": "code",
   "execution_count": null,
   "id": "4a6aedb1-9587-4d7c-a838-a3b13a5480f9",
   "metadata": {},
   "outputs": [],
   "source": [
    "df = pd.read_csv(os.path.join(path, '02 Data', 'Original Data', 'orders.csv'), usecols = vars_list)"
   ]
  },
  {
   "cell_type": "code",
   "execution_count": null,
   "id": "a8a7ac8c-5e13-4903-8caf-47c9f2b45b13",
   "metadata": {},
   "outputs": [],
   "source": [
    "df.head()"
   ]
  },
  {
   "cell_type": "code",
   "execution_count": null,
   "id": "2bc35852-9cb1-4ddc-8075-829dea558a27",
   "metadata": {},
   "outputs": [],
   "source": [
    "vars_list_prods = ['product_id', 'product_name', 'aisle_id', 'department_id', 'prices']"
   ]
  },
  {
   "cell_type": "code",
   "execution_count": null,
   "id": "50684c69-d445-49db-9f17-df914c233fcb",
   "metadata": {},
   "outputs": [],
   "source": [
    "vars_list_prods"
   ]
  },
  {
   "cell_type": "code",
   "execution_count": null,
   "id": "45b94d01-398b-4b9f-ba00-2abd2651e22b",
   "metadata": {},
   "outputs": [],
   "source": [
    "df_prods = pd.read_csv(os.path.join(path, '02 Data', 'Original Data', 'products.csv'), usecols = vars_list_prods)"
   ]
  },
  {
   "cell_type": "code",
   "execution_count": null,
   "id": "f751cf72-70c7-4209-84c2-605e9c38ca33",
   "metadata": {},
   "outputs": [],
   "source": [
    "df_prods.head(20)"
   ]
  },
  {
   "cell_type": "code",
   "execution_count": null,
   "id": "0b0bb11d-9a6a-48a1-b8af-ee9c710d9044",
   "metadata": {},
   "outputs": [],
   "source": [
    "df_prods.tail(35)"
   ]
  },
  {
   "cell_type": "markdown",
   "id": "187db64a-44cc-44d6-b677-ef6d6e696fb9",
   "metadata": {},
   "source": [
    "# 02. Descriptive analysis"
   ]
  },
  {
   "cell_type": "code",
   "execution_count": null,
   "id": "1bc62f7b-4992-415d-8984-a90c53a87957",
   "metadata": {},
   "outputs": [],
   "source": [
    "df_prods.columns"
   ]
  },
  {
   "cell_type": "code",
   "execution_count": null,
   "id": "a31e0400-61b0-46fe-ae1c-a52974cb9d03",
   "metadata": {},
   "outputs": [],
   "source": [
    "df_prods.shape"
   ]
  },
  {
   "cell_type": "code",
   "execution_count": null,
   "id": "b4b4d850-6ac8-4416-81d2-b5d32f5a9878",
   "metadata": {},
   "outputs": [],
   "source": [
    "df_prods.describe()"
   ]
  },
  {
   "cell_type": "markdown",
   "id": "d64f7567-70f6-418f-9ca4-118b4f038efd",
   "metadata": {},
   "source": [
    "maximum value of the “aisle_id” column: 134.000000"
   ]
  },
  {
   "cell_type": "code",
   "execution_count": null,
   "id": "16efc279-7af5-46cd-beb8-d46a8a583eeb",
   "metadata": {},
   "outputs": [],
   "source": [
    "df_prods.dtypes"
   ]
  },
  {
   "cell_type": "markdown",
   "id": "e3fc50e6-ea65-4b75-9f76-0a59da90476b",
   "metadata": {},
   "source": [
    "data type of the “department_id” column: int64"
   ]
  }
 ],
 "metadata": {
  "kernelspec": {
   "display_name": "Python 3 (ipykernel)",
   "language": "python",
   "name": "python3"
  },
  "language_info": {
   "codemirror_mode": {
    "name": "ipython",
    "version": 3
   },
   "file_extension": ".py",
   "mimetype": "text/x-python",
   "name": "python",
   "nbconvert_exporter": "python",
   "pygments_lexer": "ipython3",
   "version": "3.11.7"
  }
 },
 "nbformat": 4,
 "nbformat_minor": 5
}
